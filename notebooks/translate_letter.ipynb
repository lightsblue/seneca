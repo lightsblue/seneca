{
 "cells": [
  {
   "cell_type": "markdown",
   "id": "62b892b5",
   "metadata": {},
   "source": [
    "# Letter Translation Interface\n",
    "\n",
    "This notebook provides a simple interface for translating Seneca's letters using our translation system."
   ]
  },
  {
   "cell_type": "code",
   "execution_count": null,
   "id": "a7124966",
   "metadata": {},
   "outputs": [],
   "source": [
    "# Load environment variables\n",
    "from dotenv import load_dotenv\n",
    "import os\n",
    "\n",
    "# Load .env file from project root\n",
    "load_dotenv()\n",
    "\n",
    "# Verify API key is loaded\n",
    "if not os.getenv(\"OPENAI_API_KEY\"):\n",
    "    raise ValueError(\"OPENAI_API_KEY not found in environment variables. Please check your .env file.\")"
   ]
  },
  {
   "cell_type": "code",
   "execution_count": null,
   "id": "ef216896",
   "metadata": {},
   "outputs": [],
   "source": [
    "# Import reload to refresh modules after code changes\n",
    "import importlib\n",
    "import latin_translator.service.orchestrator\n",
    "import latin_translator.service.translation\n",
    "\n",
    "# Function to reload modules after changes\n",
    "def reload_modules():\n",
    "    importlib.reload(latin_translator.service.orchestrator)\n",
    "    importlib.reload(latin_translator.service.translation)\n",
    "    print(\"Modules reloaded successfully\")\n",
    "\n",
    "# Run this cell after making changes to core modules\n",
    "reload_modules()"
   ]
  },
  {
   "cell_type": "code",
   "execution_count": null,
   "id": "b262e095",
   "metadata": {},
   "outputs": [],
   "source": [
    "from latin_translator.models import Letter, TranslationRequest\n",
    "from latin_translator.service.translation import TranslationService\n",
    "from latin_translator.service.orchestrator import TranslationOrchestrator\n",
    "from IPython.display import display, Markdown"
   ]
  },
  {
   "cell_type": "code",
   "execution_count": null,
   "id": "14e3b997",
   "metadata": {},
   "outputs": [],
   "source": [
    "# Initialize the translation service\n",
    "orchestrator = TranslationOrchestrator()\n",
    "translation_service = TranslationService(orchestrator)"
   ]
  },
  {
   "cell_type": "code",
   "execution_count": null,
   "id": "87cb244f",
   "metadata": {},
   "outputs": [],
   "source": [
    "# Example letter\n",
    "letter = Letter(\n",
    "    number=1,\n",
    "    roman=\"I\",\n",
    "    title=\"On Saving Time\",\n",
    "    content=\"\"\"Ita fac, mi Lucili: vindica te tibi, et tempus quod adhuc aut auferebatur aut subripiebatur aut excidebat collige et serva. Persuade tibi hoc sic esse ut scribo: quaedam tempora eripiuntur nobis, quaedam subducuntur, quaedam effluunt. Turpissima tamen est iactura quae per neglegentiam fit.\"\"\"\n",
    ")\n",
    "\n",
    "# Display the original letter\n",
    "display(Markdown(f\"**Original Letter {letter.roman} ({letter.number}): {letter.title}**\\n\\n{letter.content}\"))"
   ]
  },
  {
   "cell_type": "code",
   "execution_count": null,
   "id": "8d1fcd92",
   "metadata": {},
   "outputs": [],
   "source": [
    "# Create translation request\n",
    "request = TranslationRequest(\n",
    "    text=letter.content,\n",
    "    instructions=\"Translate this letter from Latin to English, preserving Seneca's philosophical precision.\"\n",
    ")\n",
    "\n",
    "# Translate the letter\n",
    "translation = translation_service.translate_letter(letter, request)\n",
    "\n",
    "# Display the translation\n",
    "translated_text = \"\\n\\n\".join([\" \".join(para[\"sentences\"]) for para in translation])\n",
    "display(Markdown(f\"**Translation:**\\n\\n{translated_text}\")) "
   ]
  }
 ],
 "metadata": {
  "jupytext": {
   "cell_metadata_filter": "-all",
   "main_language": "python",
   "notebook_metadata_filter": "-all"
  }
 },
 "nbformat": 4,
 "nbformat_minor": 5
}
